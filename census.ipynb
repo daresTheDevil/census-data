{
 "cells": [
  {
   "cell_type": "code",
   "execution_count": 1,
   "metadata": {},
   "outputs": [],
   "source": [
    "# Census API Key\n",
    "\n",
    "API_KEY = '095345a384263f9c1f947f8f1252a6f6f274697e'"
   ]
  },
  {
   "cell_type": "code",
   "execution_count": 2,
   "metadata": {},
   "outputs": [],
   "source": [
    "# import pandas to handle data, censusgeocode to geocode batches\n",
    "\n",
    "import censusgeocode\n",
    "import pandas as pd\n",
    "import requests\n",
    "import os\n",
    "import time\n",
    "\n",
    "path = './files'"
   ]
  },
  {
   "cell_type": "code",
   "execution_count": 3,
   "metadata": {},
   "outputs": [],
   "source": [
    "df = pd.read_csv(\"student_address_tract.txt\", sep = \"|\", encoding = 'unicode_escape', dtype=str)"
   ]
  },
  {
   "cell_type": "code",
   "execution_count": 4,
   "metadata": {},
   "outputs": [
    {
     "data": {
      "text/plain": [
       "(309122, 8)"
      ]
     },
     "execution_count": 4,
     "metadata": {},
     "output_type": "execute_result"
    }
   ],
   "source": [
    "df.shape\n",
    "# studentDF.shape"
   ]
  },
  {
   "cell_type": "code",
   "execution_count": 5,
   "metadata": {},
   "outputs": [
    {
     "data": {
      "text/plain": [
       "District Number       object\n",
       "NAME                  object\n",
       "Number of Students    object\n",
       "PERMADDR1             object\n",
       "PERMCITY              object\n",
       "PERMSTATE             object\n",
       "PERMZIP               object\n",
       "Census Tract          object\n",
       "dtype: object"
      ]
     },
     "execution_count": 5,
     "metadata": {},
     "output_type": "execute_result"
    }
   ],
   "source": [
    "df.dtypes\n",
    "# studentDF.dtypes"
   ]
  },
  {
   "cell_type": "code",
   "execution_count": 6,
   "metadata": {},
   "outputs": [
    {
     "data": {
      "text/html": [
       "<div>\n",
       "<style scoped>\n",
       "    .dataframe tbody tr th:only-of-type {\n",
       "        vertical-align: middle;\n",
       "    }\n",
       "\n",
       "    .dataframe tbody tr th {\n",
       "        vertical-align: top;\n",
       "    }\n",
       "\n",
       "    .dataframe thead th {\n",
       "        text-align: right;\n",
       "    }\n",
       "</style>\n",
       "<table border=\"1\" class=\"dataframe\">\n",
       "  <thead>\n",
       "    <tr style=\"text-align: right;\">\n",
       "      <th></th>\n",
       "      <th>District Number</th>\n",
       "      <th>NAME</th>\n",
       "      <th>Number of Students</th>\n",
       "      <th>PERMADDR1</th>\n",
       "      <th>PERMCITY</th>\n",
       "      <th>PERMSTATE</th>\n",
       "      <th>PERMZIP</th>\n",
       "      <th>Census Tract</th>\n",
       "    </tr>\n",
       "  </thead>\n",
       "  <tbody>\n",
       "    <tr>\n",
       "      <th>0</th>\n",
       "      <td>0130</td>\n",
       "      <td>NATCHEZ-ADAMS SCHOOL DIST</td>\n",
       "      <td>2</td>\n",
       "      <td>1 BENJAMIN RD</td>\n",
       "      <td>NATCHEZ</td>\n",
       "      <td>MS</td>\n",
       "      <td>39120</td>\n",
       "      <td>NaN</td>\n",
       "    </tr>\n",
       "    <tr>\n",
       "      <th>1</th>\n",
       "      <td>0130</td>\n",
       "      <td>NATCHEZ-ADAMS SCHOOL DIST</td>\n",
       "      <td>1</td>\n",
       "      <td>1 CHINKAPIN DR</td>\n",
       "      <td>NATCHEZ</td>\n",
       "      <td>MS</td>\n",
       "      <td>39120</td>\n",
       "      <td>NaN</td>\n",
       "    </tr>\n",
       "    <tr>\n",
       "      <th>2</th>\n",
       "      <td>0130</td>\n",
       "      <td>NATCHEZ-ADAMS SCHOOL DIST</td>\n",
       "      <td>2</td>\n",
       "      <td>1 CINDY LN</td>\n",
       "      <td>NATCHEZ</td>\n",
       "      <td>MS</td>\n",
       "      <td>39120</td>\n",
       "      <td>NaN</td>\n",
       "    </tr>\n",
       "    <tr>\n",
       "      <th>3</th>\n",
       "      <td>0130</td>\n",
       "      <td>NATCHEZ-ADAMS SCHOOL DIST</td>\n",
       "      <td>1</td>\n",
       "      <td>1 CLEOTHIA HENYARD HTS</td>\n",
       "      <td>NATCHEZ</td>\n",
       "      <td>MS</td>\n",
       "      <td>39120</td>\n",
       "      <td>NaN</td>\n",
       "    </tr>\n",
       "    <tr>\n",
       "      <th>4</th>\n",
       "      <td>0130</td>\n",
       "      <td>NATCHEZ-ADAMS SCHOOL DIST</td>\n",
       "      <td>1</td>\n",
       "      <td>1 COUNTRY SQUIRE RD</td>\n",
       "      <td>NATCHEZ</td>\n",
       "      <td>MS</td>\n",
       "      <td>39120</td>\n",
       "      <td>NaN</td>\n",
       "    </tr>\n",
       "    <tr>\n",
       "      <th>...</th>\n",
       "      <td>...</td>\n",
       "      <td>...</td>\n",
       "      <td>...</td>\n",
       "      <td>...</td>\n",
       "      <td>...</td>\n",
       "      <td>...</td>\n",
       "      <td>...</td>\n",
       "      <td>...</td>\n",
       "    </tr>\n",
       "    <tr>\n",
       "      <th>309117</th>\n",
       "      <td>8220</td>\n",
       "      <td>YAZOO CITY MUNICIPAL SCHOOL DIST</td>\n",
       "      <td>1</td>\n",
       "      <td>PO BOX 544</td>\n",
       "      <td>YAZOO CITY</td>\n",
       "      <td>MS</td>\n",
       "      <td>39194</td>\n",
       "      <td>NaN</td>\n",
       "    </tr>\n",
       "    <tr>\n",
       "      <th>309118</th>\n",
       "      <td>8220</td>\n",
       "      <td>YAZOO CITY MUNICIPAL SCHOOL DIST</td>\n",
       "      <td>1</td>\n",
       "      <td>PO BOX 642</td>\n",
       "      <td>YAZOO CITY</td>\n",
       "      <td>MS</td>\n",
       "      <td>39194</td>\n",
       "      <td>NaN</td>\n",
       "    </tr>\n",
       "    <tr>\n",
       "      <th>309119</th>\n",
       "      <td>8220</td>\n",
       "      <td>YAZOO CITY MUNICIPAL SCHOOL DIST</td>\n",
       "      <td>1</td>\n",
       "      <td>PO BOX 734</td>\n",
       "      <td>YAZOO CITY</td>\n",
       "      <td>MS</td>\n",
       "      <td>39194</td>\n",
       "      <td>NaN</td>\n",
       "    </tr>\n",
       "    <tr>\n",
       "      <th>309120</th>\n",
       "      <td>8220</td>\n",
       "      <td>YAZOO CITY MUNICIPAL SCHOOL DIST</td>\n",
       "      <td>1</td>\n",
       "      <td>PO BOX 875</td>\n",
       "      <td>YAZOO CITY</td>\n",
       "      <td>MS</td>\n",
       "      <td>39194</td>\n",
       "      <td>NaN</td>\n",
       "    </tr>\n",
       "    <tr>\n",
       "      <th>309121</th>\n",
       "      <td>8220</td>\n",
       "      <td>YAZOO CITY MUNICIPAL SCHOOL DIST</td>\n",
       "      <td>1</td>\n",
       "      <td>WINDSOR ESTATES APT 20C</td>\n",
       "      <td>YAZOO CITY</td>\n",
       "      <td>MS</td>\n",
       "      <td>39194</td>\n",
       "      <td>NaN</td>\n",
       "    </tr>\n",
       "  </tbody>\n",
       "</table>\n",
       "<p>309122 rows × 8 columns</p>\n",
       "</div>"
      ],
      "text/plain": [
       "       District Number                              NAME Number of Students  \\\n",
       "0                 0130         NATCHEZ-ADAMS SCHOOL DIST                  2   \n",
       "1                 0130         NATCHEZ-ADAMS SCHOOL DIST                  1   \n",
       "2                 0130         NATCHEZ-ADAMS SCHOOL DIST                  2   \n",
       "3                 0130         NATCHEZ-ADAMS SCHOOL DIST                  1   \n",
       "4                 0130         NATCHEZ-ADAMS SCHOOL DIST                  1   \n",
       "...                ...                               ...                ...   \n",
       "309117            8220  YAZOO CITY MUNICIPAL SCHOOL DIST                  1   \n",
       "309118            8220  YAZOO CITY MUNICIPAL SCHOOL DIST                  1   \n",
       "309119            8220  YAZOO CITY MUNICIPAL SCHOOL DIST                  1   \n",
       "309120            8220  YAZOO CITY MUNICIPAL SCHOOL DIST                  1   \n",
       "309121            8220  YAZOO CITY MUNICIPAL SCHOOL DIST                  1   \n",
       "\n",
       "                      PERMADDR1    PERMCITY PERMSTATE PERMZIP Census Tract  \n",
       "0                 1 BENJAMIN RD     NATCHEZ        MS   39120          NaN  \n",
       "1                1 CHINKAPIN DR     NATCHEZ        MS   39120          NaN  \n",
       "2                    1 CINDY LN     NATCHEZ        MS   39120          NaN  \n",
       "3        1 CLEOTHIA HENYARD HTS     NATCHEZ        MS   39120          NaN  \n",
       "4           1 COUNTRY SQUIRE RD     NATCHEZ        MS   39120          NaN  \n",
       "...                         ...         ...       ...     ...          ...  \n",
       "309117               PO BOX 544  YAZOO CITY        MS   39194          NaN  \n",
       "309118               PO BOX 642  YAZOO CITY        MS   39194          NaN  \n",
       "309119               PO BOX 734  YAZOO CITY        MS   39194          NaN  \n",
       "309120               PO BOX 875  YAZOO CITY        MS   39194          NaN  \n",
       "309121  WINDSOR ESTATES APT 20C  YAZOO CITY        MS   39194          NaN  \n",
       "\n",
       "[309122 rows x 8 columns]"
      ]
     },
     "execution_count": 6,
     "metadata": {},
     "output_type": "execute_result"
    }
   ],
   "source": [
    "df"
   ]
  },
  {
   "cell_type": "code",
   "execution_count": 8,
   "metadata": {},
   "outputs": [],
   "source": [
    "df = df[['PERMADDR1', 'PERMCITY', 'PERMSTATE', 'PERMZIP']].copy()"
   ]
  },
  {
   "cell_type": "code",
   "execution_count": 9,
   "metadata": {},
   "outputs": [],
   "source": [
    "# if you want to operate on multiple columns, put them in a list like so:\n",
    "cols = ['PERMADDR1', 'PERMCITY', 'PERMSTATE', 'PERMZIP']\n",
    "\n",
    "# pass them to df.replace(), specifying each char and it's replacement:\n",
    "df[cols] = df[cols].replace({',': ''}, regex=True)"
   ]
  },
  {
   "cell_type": "code",
   "execution_count": null,
   "metadata": {},
   "outputs": [],
   "source": [
    "n = 10000  #chunk row size\n",
    "# list_df = [df[i:i+n] for i in range(0,df.shape[0],n)]\n",
    "list_df = [df[i:i+n] for i in range(0,df.shape[0],n)]"
   ]
  },
  {
   "cell_type": "code",
   "execution_count": null,
   "metadata": {},
   "outputs": [],
   "source": [
    "batch = 0\n",
    "\n",
    "for list in list_df:\n",
    "    output_file = os.path.join(path,'batch'+str(batch)+'.csv')\n",
    "    list.to_csv(output_file, header=False)\n",
    "    batch += 1"
   ]
  },
  {
   "cell_type": "code",
   "execution_count": 10,
   "metadata": {},
   "outputs": [
    {
     "ename": "JSONDecodeError",
     "evalue": "Extra data: line 1 column 7 (char 6)",
     "output_type": "error",
     "traceback": [
      "\u001b[0;31m---------------------------------------------------------------------------\u001b[0m",
      "\u001b[0;31mJSONDecodeError\u001b[0m                           Traceback (most recent call last)",
      "\u001b[0;32m<ipython-input-10-a2916a904441>\u001b[0m in \u001b[0;36m<module>\u001b[0;34m\u001b[0m\n\u001b[1;32m      7\u001b[0m \u001b[0mfiles\u001b[0m \u001b[0;34m=\u001b[0m \u001b[0;34m{\u001b[0m\u001b[0;34m'addressFile'\u001b[0m\u001b[0;34m:\u001b[0m \u001b[0mopen\u001b[0m\u001b[0;34m(\u001b[0m\u001b[0mos\u001b[0m\u001b[0;34m.\u001b[0m\u001b[0mpath\u001b[0m\u001b[0;34m.\u001b[0m\u001b[0mjoin\u001b[0m\u001b[0;34m(\u001b[0m\u001b[0mpath\u001b[0m\u001b[0;34m,\u001b[0m\u001b[0;34m'batch0.csv'\u001b[0m\u001b[0;34m)\u001b[0m\u001b[0;34m)\u001b[0m\u001b[0;34m}\u001b[0m\u001b[0;34m\u001b[0m\u001b[0;34m\u001b[0m\u001b[0m\n\u001b[1;32m      8\u001b[0m \u001b[0mr\u001b[0m \u001b[0;34m=\u001b[0m \u001b[0mrequests\u001b[0m\u001b[0;34m.\u001b[0m\u001b[0mpost\u001b[0m\u001b[0;34m(\u001b[0m\u001b[0murl\u001b[0m\u001b[0;34m,\u001b[0m \u001b[0mfiles\u001b[0m\u001b[0;34m=\u001b[0m\u001b[0mfiles\u001b[0m\u001b[0;34m,\u001b[0m \u001b[0mdata\u001b[0m\u001b[0;34m=\u001b[0m\u001b[0mpayload\u001b[0m\u001b[0;34m)\u001b[0m\u001b[0;34m\u001b[0m\u001b[0;34m\u001b[0m\u001b[0m\n\u001b[0;32m----> 9\u001b[0;31m \u001b[0mj\u001b[0m \u001b[0;34m=\u001b[0m \u001b[0mr\u001b[0m\u001b[0;34m.\u001b[0m\u001b[0mjson\u001b[0m\u001b[0;34m(\u001b[0m\u001b[0;34m)\u001b[0m\u001b[0;34m\u001b[0m\u001b[0;34m\u001b[0m\u001b[0m\n\u001b[0m\u001b[1;32m     10\u001b[0m \u001b[0mdfresult\u001b[0m\u001b[0;34m.\u001b[0m\u001b[0mappend\u001b[0m\u001b[0;34m(\u001b[0m\u001b[0mpd\u001b[0m\u001b[0;34m.\u001b[0m\u001b[0mDataFrame\u001b[0m\u001b[0;34m.\u001b[0m\u001b[0mfrom_dict\u001b[0m\u001b[0;34m(\u001b[0m\u001b[0mj\u001b[0m\u001b[0;34m)\u001b[0m\u001b[0;34m)\u001b[0m\u001b[0;34m\u001b[0m\u001b[0;34m\u001b[0m\u001b[0m\n",
      "\u001b[0;32m~/opt/anaconda3/envs/census-map/lib/python3.6/site-packages/requests/models.py\u001b[0m in \u001b[0;36mjson\u001b[0;34m(self, **kwargs)\u001b[0m\n\u001b[1;32m    896\u001b[0m                     \u001b[0;31m# used.\u001b[0m\u001b[0;34m\u001b[0m\u001b[0;34m\u001b[0m\u001b[0;34m\u001b[0m\u001b[0m\n\u001b[1;32m    897\u001b[0m                     \u001b[0;32mpass\u001b[0m\u001b[0;34m\u001b[0m\u001b[0;34m\u001b[0m\u001b[0m\n\u001b[0;32m--> 898\u001b[0;31m         \u001b[0;32mreturn\u001b[0m \u001b[0mcomplexjson\u001b[0m\u001b[0;34m.\u001b[0m\u001b[0mloads\u001b[0m\u001b[0;34m(\u001b[0m\u001b[0mself\u001b[0m\u001b[0;34m.\u001b[0m\u001b[0mtext\u001b[0m\u001b[0;34m,\u001b[0m \u001b[0;34m**\u001b[0m\u001b[0mkwargs\u001b[0m\u001b[0;34m)\u001b[0m\u001b[0;34m\u001b[0m\u001b[0;34m\u001b[0m\u001b[0m\n\u001b[0m\u001b[1;32m    899\u001b[0m \u001b[0;34m\u001b[0m\u001b[0m\n\u001b[1;32m    900\u001b[0m     \u001b[0;34m@\u001b[0m\u001b[0mproperty\u001b[0m\u001b[0;34m\u001b[0m\u001b[0;34m\u001b[0m\u001b[0m\n",
      "\u001b[0;32m~/opt/anaconda3/envs/census-map/lib/python3.6/json/__init__.py\u001b[0m in \u001b[0;36mloads\u001b[0;34m(s, encoding, cls, object_hook, parse_float, parse_int, parse_constant, object_pairs_hook, **kw)\u001b[0m\n\u001b[1;32m    352\u001b[0m             \u001b[0mparse_int\u001b[0m \u001b[0;32mis\u001b[0m \u001b[0;32mNone\u001b[0m \u001b[0;32mand\u001b[0m \u001b[0mparse_float\u001b[0m \u001b[0;32mis\u001b[0m \u001b[0;32mNone\u001b[0m \u001b[0;32mand\u001b[0m\u001b[0;34m\u001b[0m\u001b[0;34m\u001b[0m\u001b[0m\n\u001b[1;32m    353\u001b[0m             parse_constant is None and object_pairs_hook is None and not kw):\n\u001b[0;32m--> 354\u001b[0;31m         \u001b[0;32mreturn\u001b[0m \u001b[0m_default_decoder\u001b[0m\u001b[0;34m.\u001b[0m\u001b[0mdecode\u001b[0m\u001b[0;34m(\u001b[0m\u001b[0ms\u001b[0m\u001b[0;34m)\u001b[0m\u001b[0;34m\u001b[0m\u001b[0;34m\u001b[0m\u001b[0m\n\u001b[0m\u001b[1;32m    355\u001b[0m     \u001b[0;32mif\u001b[0m \u001b[0mcls\u001b[0m \u001b[0;32mis\u001b[0m \u001b[0;32mNone\u001b[0m\u001b[0;34m:\u001b[0m\u001b[0;34m\u001b[0m\u001b[0;34m\u001b[0m\u001b[0m\n\u001b[1;32m    356\u001b[0m         \u001b[0mcls\u001b[0m \u001b[0;34m=\u001b[0m \u001b[0mJSONDecoder\u001b[0m\u001b[0;34m\u001b[0m\u001b[0;34m\u001b[0m\u001b[0m\n",
      "\u001b[0;32m~/opt/anaconda3/envs/census-map/lib/python3.6/json/decoder.py\u001b[0m in \u001b[0;36mdecode\u001b[0;34m(self, s, _w)\u001b[0m\n\u001b[1;32m    340\u001b[0m         \u001b[0mend\u001b[0m \u001b[0;34m=\u001b[0m \u001b[0m_w\u001b[0m\u001b[0;34m(\u001b[0m\u001b[0ms\u001b[0m\u001b[0;34m,\u001b[0m \u001b[0mend\u001b[0m\u001b[0;34m)\u001b[0m\u001b[0;34m.\u001b[0m\u001b[0mend\u001b[0m\u001b[0;34m(\u001b[0m\u001b[0;34m)\u001b[0m\u001b[0;34m\u001b[0m\u001b[0;34m\u001b[0m\u001b[0m\n\u001b[1;32m    341\u001b[0m         \u001b[0;32mif\u001b[0m \u001b[0mend\u001b[0m \u001b[0;34m!=\u001b[0m \u001b[0mlen\u001b[0m\u001b[0;34m(\u001b[0m\u001b[0ms\u001b[0m\u001b[0;34m)\u001b[0m\u001b[0;34m:\u001b[0m\u001b[0;34m\u001b[0m\u001b[0;34m\u001b[0m\u001b[0m\n\u001b[0;32m--> 342\u001b[0;31m             \u001b[0;32mraise\u001b[0m \u001b[0mJSONDecodeError\u001b[0m\u001b[0;34m(\u001b[0m\u001b[0;34m\"Extra data\"\u001b[0m\u001b[0;34m,\u001b[0m \u001b[0ms\u001b[0m\u001b[0;34m,\u001b[0m \u001b[0mend\u001b[0m\u001b[0;34m)\u001b[0m\u001b[0;34m\u001b[0m\u001b[0;34m\u001b[0m\u001b[0m\n\u001b[0m\u001b[1;32m    343\u001b[0m         \u001b[0;32mreturn\u001b[0m \u001b[0mobj\u001b[0m\u001b[0;34m\u001b[0m\u001b[0;34m\u001b[0m\u001b[0m\n\u001b[1;32m    344\u001b[0m \u001b[0;34m\u001b[0m\u001b[0m\n",
      "\u001b[0;31mJSONDecodeError\u001b[0m: Extra data: line 1 column 7 (char 6)"
     ]
    }
   ],
   "source": [
    "url = 'https://geocoding.geo.census.gov/geocoder/geographies/addressbatch?form'\n",
    "payload = {'benchmark':'Public_AR_Current', 'vintage':'Current_Current',}   \n",
    "results = ''\n",
    "\n",
    "dfResult = pd.DataFrame()\n",
    "\n",
    "files = {'addressFile': open(os.path.join(path,'batch0.csv'))}\n",
    "r = requests.post(url, files=files, data=payload)\n",
    "j = r.json()\n",
    "dfresult.append(pd.DataFrame.from_dict(j))"
   ]
  },
  {
   "cell_type": "code",
   "execution_count": null,
   "metadata": {},
   "outputs": [],
   "source": [
    "for file in os.listdir(path):\n",
    "    files = {'addressFile': open(os.path.join(path,file))}\n",
    "    r = requests.post(url, files=files, data=payload)\n",
    "    j = r.json()\n",
    "    dfresult.append(pd.DataFrame.from_dict(j))\n",
    "    results += str(r.text)"
   ]
  },
  {
   "cell_type": "code",
   "execution_count": null,
   "metadata": {},
   "outputs": [],
   "source": [
    "results"
   ]
  }
 ],
 "metadata": {
  "kernelspec": {
   "display_name": "Python 3",
   "language": "python",
   "name": "python3"
  },
  "language_info": {
   "codemirror_mode": {
    "name": "ipython",
    "version": 3
   },
   "file_extension": ".py",
   "mimetype": "text/x-python",
   "name": "python",
   "nbconvert_exporter": "python",
   "pygments_lexer": "ipython3",
   "version": "3.6.10"
  }
 },
 "nbformat": 4,
 "nbformat_minor": 4
}
