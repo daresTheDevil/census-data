{
 "cells": [
  {
   "cell_type": "code",
   "execution_count": 75,
   "metadata": {},
   "outputs": [],
   "source": [
    "# Census API Key\n",
    "\n",
    "API_KEY = '095345a384263f9c1f947f8f1252a6f6f274697e'"
   ]
  },
  {
   "cell_type": "code",
   "execution_count": 3,
   "metadata": {},
   "outputs": [],
   "source": [
    "# import pandas to handle data, censusgeocode to geocode batches\n",
    "\n",
    "import pandas as pd\n",
    "import requests"
   ]
  },
  {
   "cell_type": "code",
   "execution_count": 4,
   "metadata": {},
   "outputs": [],
   "source": [
    "df = pd.read_csv(\"student_address_tract.txt\", sep = \"|\", encoding = 'unicode_escape', dtype=str)"
   ]
  },
  {
   "cell_type": "code",
   "execution_count": 7,
   "metadata": {},
   "outputs": [
    {
     "data": {
      "text/html": [
       "<div>\n",
       "<style scoped>\n",
       "    .dataframe tbody tr th:only-of-type {\n",
       "        vertical-align: middle;\n",
       "    }\n",
       "\n",
       "    .dataframe tbody tr th {\n",
       "        vertical-align: top;\n",
       "    }\n",
       "\n",
       "    .dataframe thead th {\n",
       "        text-align: right;\n",
       "    }\n",
       "</style>\n",
       "<table border=\"1\" class=\"dataframe\">\n",
       "  <thead>\n",
       "    <tr style=\"text-align: right;\">\n",
       "      <th></th>\n",
       "      <th>District Number</th>\n",
       "      <th>NAME</th>\n",
       "      <th>Number of Students</th>\n",
       "      <th>PERMADDR1</th>\n",
       "      <th>PERMCITY</th>\n",
       "      <th>PERMSTATE</th>\n",
       "      <th>PERMZIP</th>\n",
       "      <th>Census Tract</th>\n",
       "    </tr>\n",
       "  </thead>\n",
       "  <tbody>\n",
       "    <tr>\n",
       "      <th>0</th>\n",
       "      <td>0130</td>\n",
       "      <td>NATCHEZ-ADAMS SCHOOL DIST</td>\n",
       "      <td>2</td>\n",
       "      <td>1 BENJAMIN RD</td>\n",
       "      <td>NATCHEZ</td>\n",
       "      <td>MS</td>\n",
       "      <td>39120</td>\n",
       "      <td>NaN</td>\n",
       "    </tr>\n",
       "    <tr>\n",
       "      <th>1</th>\n",
       "      <td>0130</td>\n",
       "      <td>NATCHEZ-ADAMS SCHOOL DIST</td>\n",
       "      <td>1</td>\n",
       "      <td>1 CHINKAPIN DR</td>\n",
       "      <td>NATCHEZ</td>\n",
       "      <td>MS</td>\n",
       "      <td>39120</td>\n",
       "      <td>NaN</td>\n",
       "    </tr>\n",
       "    <tr>\n",
       "      <th>2</th>\n",
       "      <td>0130</td>\n",
       "      <td>NATCHEZ-ADAMS SCHOOL DIST</td>\n",
       "      <td>2</td>\n",
       "      <td>1 CINDY LN</td>\n",
       "      <td>NATCHEZ</td>\n",
       "      <td>MS</td>\n",
       "      <td>39120</td>\n",
       "      <td>NaN</td>\n",
       "    </tr>\n",
       "    <tr>\n",
       "      <th>3</th>\n",
       "      <td>0130</td>\n",
       "      <td>NATCHEZ-ADAMS SCHOOL DIST</td>\n",
       "      <td>1</td>\n",
       "      <td>1 CLEOTHIA HENYARD HTS</td>\n",
       "      <td>NATCHEZ</td>\n",
       "      <td>MS</td>\n",
       "      <td>39120</td>\n",
       "      <td>NaN</td>\n",
       "    </tr>\n",
       "    <tr>\n",
       "      <th>4</th>\n",
       "      <td>0130</td>\n",
       "      <td>NATCHEZ-ADAMS SCHOOL DIST</td>\n",
       "      <td>1</td>\n",
       "      <td>1 COUNTRY SQUIRE RD</td>\n",
       "      <td>NATCHEZ</td>\n",
       "      <td>MS</td>\n",
       "      <td>39120</td>\n",
       "      <td>NaN</td>\n",
       "    </tr>\n",
       "    <tr>\n",
       "      <th>...</th>\n",
       "      <td>...</td>\n",
       "      <td>...</td>\n",
       "      <td>...</td>\n",
       "      <td>...</td>\n",
       "      <td>...</td>\n",
       "      <td>...</td>\n",
       "      <td>...</td>\n",
       "      <td>...</td>\n",
       "    </tr>\n",
       "    <tr>\n",
       "      <th>309117</th>\n",
       "      <td>8220</td>\n",
       "      <td>YAZOO CITY MUNICIPAL SCHOOL DIST</td>\n",
       "      <td>1</td>\n",
       "      <td>PO BOX 544</td>\n",
       "      <td>YAZOO CITY</td>\n",
       "      <td>MS</td>\n",
       "      <td>39194</td>\n",
       "      <td>NaN</td>\n",
       "    </tr>\n",
       "    <tr>\n",
       "      <th>309118</th>\n",
       "      <td>8220</td>\n",
       "      <td>YAZOO CITY MUNICIPAL SCHOOL DIST</td>\n",
       "      <td>1</td>\n",
       "      <td>PO BOX 642</td>\n",
       "      <td>YAZOO CITY</td>\n",
       "      <td>MS</td>\n",
       "      <td>39194</td>\n",
       "      <td>NaN</td>\n",
       "    </tr>\n",
       "    <tr>\n",
       "      <th>309119</th>\n",
       "      <td>8220</td>\n",
       "      <td>YAZOO CITY MUNICIPAL SCHOOL DIST</td>\n",
       "      <td>1</td>\n",
       "      <td>PO BOX 734</td>\n",
       "      <td>YAZOO CITY</td>\n",
       "      <td>MS</td>\n",
       "      <td>39194</td>\n",
       "      <td>NaN</td>\n",
       "    </tr>\n",
       "    <tr>\n",
       "      <th>309120</th>\n",
       "      <td>8220</td>\n",
       "      <td>YAZOO CITY MUNICIPAL SCHOOL DIST</td>\n",
       "      <td>1</td>\n",
       "      <td>PO BOX 875</td>\n",
       "      <td>YAZOO CITY</td>\n",
       "      <td>MS</td>\n",
       "      <td>39194</td>\n",
       "      <td>NaN</td>\n",
       "    </tr>\n",
       "    <tr>\n",
       "      <th>309121</th>\n",
       "      <td>8220</td>\n",
       "      <td>YAZOO CITY MUNICIPAL SCHOOL DIST</td>\n",
       "      <td>1</td>\n",
       "      <td>WINDSOR ESTATES APT 20C</td>\n",
       "      <td>YAZOO CITY</td>\n",
       "      <td>MS</td>\n",
       "      <td>39194</td>\n",
       "      <td>NaN</td>\n",
       "    </tr>\n",
       "  </tbody>\n",
       "</table>\n",
       "<p>309122 rows × 8 columns</p>\n",
       "</div>"
      ],
      "text/plain": [
       "       District Number                              NAME Number of Students  \\\n",
       "0                 0130         NATCHEZ-ADAMS SCHOOL DIST                  2   \n",
       "1                 0130         NATCHEZ-ADAMS SCHOOL DIST                  1   \n",
       "2                 0130         NATCHEZ-ADAMS SCHOOL DIST                  2   \n",
       "3                 0130         NATCHEZ-ADAMS SCHOOL DIST                  1   \n",
       "4                 0130         NATCHEZ-ADAMS SCHOOL DIST                  1   \n",
       "...                ...                               ...                ...   \n",
       "309117            8220  YAZOO CITY MUNICIPAL SCHOOL DIST                  1   \n",
       "309118            8220  YAZOO CITY MUNICIPAL SCHOOL DIST                  1   \n",
       "309119            8220  YAZOO CITY MUNICIPAL SCHOOL DIST                  1   \n",
       "309120            8220  YAZOO CITY MUNICIPAL SCHOOL DIST                  1   \n",
       "309121            8220  YAZOO CITY MUNICIPAL SCHOOL DIST                  1   \n",
       "\n",
       "                      PERMADDR1    PERMCITY PERMSTATE PERMZIP Census Tract  \n",
       "0                 1 BENJAMIN RD     NATCHEZ        MS   39120          NaN  \n",
       "1                1 CHINKAPIN DR     NATCHEZ        MS   39120          NaN  \n",
       "2                    1 CINDY LN     NATCHEZ        MS   39120          NaN  \n",
       "3        1 CLEOTHIA HENYARD HTS     NATCHEZ        MS   39120          NaN  \n",
       "4           1 COUNTRY SQUIRE RD     NATCHEZ        MS   39120          NaN  \n",
       "...                         ...         ...       ...     ...          ...  \n",
       "309117               PO BOX 544  YAZOO CITY        MS   39194          NaN  \n",
       "309118               PO BOX 642  YAZOO CITY        MS   39194          NaN  \n",
       "309119               PO BOX 734  YAZOO CITY        MS   39194          NaN  \n",
       "309120               PO BOX 875  YAZOO CITY        MS   39194          NaN  \n",
       "309121  WINDSOR ESTATES APT 20C  YAZOO CITY        MS   39194          NaN  \n",
       "\n",
       "[309122 rows x 8 columns]"
      ]
     },
     "execution_count": 7,
     "metadata": {},
     "output_type": "execute_result"
    }
   ],
   "source": [
    "df"
   ]
  },
  {
   "cell_type": "code",
   "execution_count": 6,
   "metadata": {},
   "outputs": [
    {
     "ename": "AttributeError",
     "evalue": "'DataFrame' object has no attribute 'rows'",
     "output_type": "error",
     "traceback": [
      "\u001b[0;31m---------------------------------------------------------------------------\u001b[0m",
      "\u001b[0;31mAttributeError\u001b[0m                            Traceback (most recent call last)",
      "\u001b[0;32m<ipython-input-6-a1d377e12723>\u001b[0m in \u001b[0;36m<module>\u001b[0;34m\u001b[0m\n\u001b[0;32m----> 1\u001b[0;31m \u001b[0;32mfor\u001b[0m \u001b[0maddress\u001b[0m \u001b[0;32min\u001b[0m \u001b[0mdf\u001b[0m\u001b[0;34m.\u001b[0m\u001b[0mrows\u001b[0m\u001b[0;34m:\u001b[0m\u001b[0;34m\u001b[0m\u001b[0;34m\u001b[0m\u001b[0m\n\u001b[0m\u001b[1;32m      2\u001b[0m     \u001b[0mprint\u001b[0m\u001b[0;34m(\u001b[0m\u001b[0maddress\u001b[0m\u001b[0;34m)\u001b[0m\u001b[0;34m\u001b[0m\u001b[0;34m\u001b[0m\u001b[0m\n\u001b[1;32m      3\u001b[0m \u001b[0;31m#     cg.address('1600 Pennsylvania Avenue', city='Washington', state='DC', zipcode='20006')\u001b[0m\u001b[0;34m\u001b[0m\u001b[0;34m\u001b[0m\u001b[0;34m\u001b[0m\u001b[0m\n",
      "\u001b[0;32m~/opt/anaconda3/envs/census-map/lib/python3.6/site-packages/pandas/core/generic.py\u001b[0m in \u001b[0;36m__getattr__\u001b[0;34m(self, name)\u001b[0m\n\u001b[1;32m   5272\u001b[0m             \u001b[0;32mif\u001b[0m \u001b[0mself\u001b[0m\u001b[0;34m.\u001b[0m\u001b[0m_info_axis\u001b[0m\u001b[0;34m.\u001b[0m\u001b[0m_can_hold_identifiers_and_holds_name\u001b[0m\u001b[0;34m(\u001b[0m\u001b[0mname\u001b[0m\u001b[0;34m)\u001b[0m\u001b[0;34m:\u001b[0m\u001b[0;34m\u001b[0m\u001b[0;34m\u001b[0m\u001b[0m\n\u001b[1;32m   5273\u001b[0m                 \u001b[0;32mreturn\u001b[0m \u001b[0mself\u001b[0m\u001b[0;34m[\u001b[0m\u001b[0mname\u001b[0m\u001b[0;34m]\u001b[0m\u001b[0;34m\u001b[0m\u001b[0;34m\u001b[0m\u001b[0m\n\u001b[0;32m-> 5274\u001b[0;31m             \u001b[0;32mreturn\u001b[0m \u001b[0mobject\u001b[0m\u001b[0;34m.\u001b[0m\u001b[0m__getattribute__\u001b[0m\u001b[0;34m(\u001b[0m\u001b[0mself\u001b[0m\u001b[0;34m,\u001b[0m \u001b[0mname\u001b[0m\u001b[0;34m)\u001b[0m\u001b[0;34m\u001b[0m\u001b[0;34m\u001b[0m\u001b[0m\n\u001b[0m\u001b[1;32m   5275\u001b[0m \u001b[0;34m\u001b[0m\u001b[0m\n\u001b[1;32m   5276\u001b[0m     \u001b[0;32mdef\u001b[0m \u001b[0m__setattr__\u001b[0m\u001b[0;34m(\u001b[0m\u001b[0mself\u001b[0m\u001b[0;34m,\u001b[0m \u001b[0mname\u001b[0m\u001b[0;34m:\u001b[0m \u001b[0mstr\u001b[0m\u001b[0;34m,\u001b[0m \u001b[0mvalue\u001b[0m\u001b[0;34m)\u001b[0m \u001b[0;34m->\u001b[0m \u001b[0;32mNone\u001b[0m\u001b[0;34m:\u001b[0m\u001b[0;34m\u001b[0m\u001b[0;34m\u001b[0m\u001b[0m\n",
      "\u001b[0;31mAttributeError\u001b[0m: 'DataFrame' object has no attribute 'rows'"
     ]
    }
   ],
   "source": [
    "for index, row in df.iterrows():\n",
    "for address in df.rows:\n",
    "    print(address)\n",
    "#     cg.address('1600 Pennsylvania Avenue', city='Washington', state='DC', zipcode='20006')"
   ]
  },
  {
   "cell_type": "code",
   "execution_count": 21,
   "metadata": {},
   "outputs": [
    {
     "data": {
      "text/plain": [
       "(309122, 8)"
      ]
     },
     "execution_count": 21,
     "metadata": {},
     "output_type": "execute_result"
    }
   ],
   "source": [
    "studentDF.shape"
   ]
  },
  {
   "cell_type": "code",
   "execution_count": 40,
   "metadata": {},
   "outputs": [
    {
     "data": {
      "text/plain": [
       "District Number       object\n",
       "NAME                  object\n",
       "Number of Students    object\n",
       "PERMADDR1             object\n",
       "PERMCITY              object\n",
       "PERMSTATE             object\n",
       "PERMZIP               object\n",
       "Census Tract          object\n",
       "dtype: object"
      ]
     },
     "execution_count": 40,
     "metadata": {},
     "output_type": "execute_result"
    }
   ],
   "source": [
    "studentDF.dtypes"
   ]
  },
  {
   "cell_type": "code",
   "execution_count": 50,
   "metadata": {},
   "outputs": [],
   "source": [
    "df = studentDF[['PERMADDR1', 'PERMCITY', 'PERMSTATE', 'PERMZIP']].copy()"
   ]
  },
  {
   "cell_type": "code",
   "execution_count": 72,
   "metadata": {},
   "outputs": [],
   "source": [
    "# if you want to operate on multiple columns, put them in a list like so:\n",
    "cols = ['PERMADDR1', 'PERMCITY', 'PERMSTATE', 'PERMZIP']\n",
    "\n",
    "# pass them to df.replace(), specifying each char and it's replacement:\n",
    "df[cols] = df[cols].replace({',': ''}, regex=True)"
   ]
  },
  {
   "cell_type": "code",
   "execution_count": 73,
   "metadata": {},
   "outputs": [],
   "source": [
    "n = 10000  #chunk row size\n",
    "list_df = [df[i:i+n] for i in range(0,df.shape[0],n)]"
   ]
  },
  {
   "cell_type": "code",
   "execution_count": 74,
   "metadata": {},
   "outputs": [],
   "source": [
    "batch = 0\n",
    "\n",
    "for list in list_df:\n",
    "    list.to_csv('batch'+str(batch)+'.csv', header=False)\n",
    "    batch += 1"
   ]
  },
  {
   "cell_type": "code",
   "execution_count": 63,
   "metadata": {},
   "outputs": [],
   "source": [
    "batch = 0\n",
    "start = 0\n",
    "end = 9999\n",
    "\n",
    "while end < len(df):\n",
    "    df[start:end].to_csv('batch'+str(batch)+'.csv', header=False)\n",
    "    start = end + 1\n",
    "    end += 9999\n",
    "    batch += 1"
   ]
  },
  {
   "cell_type": "code",
   "execution_count": 54,
   "metadata": {},
   "outputs": [],
   "source": [
    "cg = censusgeocode.CensusGeocode(benchmark='Public_AR_Census2010',vintage='Census2010_Census2010')\n",
    "k = cg.addressbatch('D:\\WORK\\Addresses.csv')"
   ]
  },
  {
   "cell_type": "code",
   "execution_count": 56,
   "metadata": {},
   "outputs": [
    {
     "data": {
      "text/plain": [
       "\"<p> While attempting to geocode your batch input, the Census Geocoder encountered an error from which it cannot recover. This may be caused by the fact that the Census Geocoder is experiencing a period of high usage, is unable to connect to a service it is dependent on, or the batch file contains a formatting error or  invalid data type. Please verify your batch file and resubmit your batch query again later.<p>More information and documentation (available in HTML and PDF formats) about the Census Geocoder and how to use it can be found here: <a href='https://geocoding.geo.census.gov/geocoder/'>https://geocoding.geo.census.gov/</a></p>\""
      ]
     },
     "execution_count": 56,
     "metadata": {},
     "output_type": "execute_result"
    }
   ],
   "source": []
  },
  {
   "cell_type": "code",
   "execution_count": 30,
   "metadata": {},
   "outputs": [],
   "source": [
    "addresses = (studentDF['PERMADDR1'] + ',' + studentDF['PERMCITY'] + ',' + studentDF['PERMSTATE'] + ',' + studentDF['PERMZIP']).tolist()"
   ]
  },
  {
   "cell_type": "code",
   "execution_count": 31,
   "metadata": {},
   "outputs": [
    {
     "data": {
      "text/plain": [
       "309122"
      ]
     },
     "execution_count": 31,
     "metadata": {},
     "output_type": "execute_result"
    }
   ],
   "source": [
    "len(addresses)"
   ]
  },
  {
   "cell_type": "code",
   "execution_count": 33,
   "metadata": {},
   "outputs": [
    {
     "ename": "AttributeError",
     "evalue": "'list' object has no attribute 'to_csv'",
     "output_type": "error",
     "traceback": [
      "\u001b[0;31m---------------------------------------------------------------------------\u001b[0m",
      "\u001b[0;31mAttributeError\u001b[0m                            Traceback (most recent call last)",
      "\u001b[0;32m<ipython-input-33-784b6d958437>\u001b[0m in \u001b[0;36m<module>\u001b[0;34m\u001b[0m\n\u001b[0;32m----> 1\u001b[0;31m \u001b[0maddresses\u001b[0m\u001b[0;34m.\u001b[0m\u001b[0mto_csv\u001b[0m\u001b[0;34m(\u001b[0m\u001b[0;34m'list.csv'\u001b[0m\u001b[0;34m,\u001b[0m \u001b[0mindex\u001b[0m\u001b[0;34m=\u001b[0m\u001b[0;32mFalse\u001b[0m\u001b[0;34m)\u001b[0m\u001b[0;34m\u001b[0m\u001b[0;34m\u001b[0m\u001b[0m\n\u001b[0m",
      "\u001b[0;31mAttributeError\u001b[0m: 'list' object has no attribute 'to_csv'"
     ]
    }
   ],
   "source": [
    "addresses.to_csv('list.csv', index=False)"
   ]
  },
  {
   "cell_type": "code",
   "execution_count": null,
   "metadata": {},
   "outputs": [],
   "source": []
  }
 ],
 "metadata": {
  "kernelspec": {
   "display_name": "Python 3",
   "language": "python",
   "name": "python3"
  },
  "language_info": {
   "codemirror_mode": {
    "name": "ipython",
    "version": 3
   },
   "file_extension": ".py",
   "mimetype": "text/x-python",
   "name": "python",
   "nbconvert_exporter": "python",
   "pygments_lexer": "ipython3",
   "version": "3.6.10"
  }
 },
 "nbformat": 4,
 "nbformat_minor": 4
}
